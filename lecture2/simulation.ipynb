{
 "cells": [
  {
   "cell_type": "code",
   "execution_count": 2,
   "metadata": {},
   "outputs": [],
   "source": [
    "import time\n",
    "\n",
    "\n",
    "def fast_sum(x, y):\n",
    "    time.sleep(0.01)  # wait 0.01 seconds\n",
    "    return x + y\n",
    "\n",
    "def slow_sum(x, y):\n",
    "    time.sleep(0.1)  # wait 0.1 seconds\n",
    "    return x + y\n",
    "\n",
    "def fast_sum_list(x_list, y_list):\n",
    "    res = []\n",
    "    for x, y in zip(x_list, y_list):\n",
    "        res.append(fast_sum(x, y))\n",
    "        \n",
    "    return res\n",
    "\n",
    "def slow_sum_list(x_list, y_list):\n",
    "    res = []\n",
    "    for x, y in zip(x_list, y_list):\n",
    "        res.append(slow_sum(x, y))\n",
    "        \n",
    "    return res\n",
    "\n",
    "x_list = list(range(100))\n",
    "y_list = list(range(100))"
   ]
  },
  {
   "cell_type": "code",
   "execution_count": null,
   "metadata": {},
   "outputs": [],
   "source": []
  }
 ],
 "metadata": {
  "interpreter": {
   "hash": "fe1843ce7f62b4996191e9202d779c845f9a3e0f862d675b0ab190b9800ba1a8"
  },
  "kernelspec": {
   "display_name": "Python 3.11.5",
   "language": "python",
   "name": "python3"
  },
  "language_info": {
   "codemirror_mode": {
    "name": "ipython",
    "version": 3
   },
   "file_extension": ".py",
   "mimetype": "text/x-python",
   "name": "python",
   "nbconvert_exporter": "python",
   "pygments_lexer": "ipython3",
   "version": "3.11.5"
  },
  "orig_nbformat": 4
 },
 "nbformat": 4,
 "nbformat_minor": 2
}
