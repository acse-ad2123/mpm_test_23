{
 "cells": [
  {
   "cell_type": "code",
   "execution_count": 2,
   "id": "801d6bdd",
   "metadata": {},
   "outputs": [],
   "source": [
    "import time\n",
    "\n",
    "\n",
    "def fast_sum(x, y):\n",
    "    time.sleep(0.01)  # wait 0.01 seconds\n",
    "    return x + y\n",
    "\n",
    "def slow_sum(x, y):\n",
    "    time.sleep(0.1)  # wait 0.1 seconds\n",
    "    return x + y\n",
    "\n",
    "def fast_sum_list(x_list, y_list):\n",
    "    res = []\n",
    "    for x, y in zip(x_list, y_list):\n",
    "        res.append(fast_sum(x, y))\n",
    "        \n",
    "    return res\n",
    "\n",
    "def slow_sum_list(x_list, y_list):\n",
    "    res = []\n",
    "    for x, y in zip(x_list, y_list):\n",
    "        res.append(slow_sum(x, y))\n",
    "        \n",
    "    return res\n",
    "\n",
    "x_list = list(range(100))\n",
    "y_list = list(range(100))"
   ]
  },
  {
   "cell_type": "code",
   "execution_count": 3,
   "id": "36fd77cd",
   "metadata": {},
   "outputs": [
    {
     "name": "stdout",
     "output_type": "stream",
     "text": [
      "         302 function calls in 1.197 seconds\n",
      "\n",
      "   Ordered by: standard name\n",
      "\n",
      "   ncalls  tottime  percall  cumtime  percall filename:lineno(function)\n",
      "        1    0.001    0.001    1.197    1.197 3927324219.py:12(fast_sum_list)\n",
      "      100    0.001    0.000    1.195    0.012 3927324219.py:4(fast_sum)\n",
      "      100    1.195    0.012    1.195    0.012 {built-in method time.sleep}\n",
      "      100    0.000    0.000    0.000    0.000 {method 'append' of 'list' objects}\n",
      "        1    0.000    0.000    0.000    0.000 {method 'disable' of '_lsprof.Profiler' objects}\n",
      "\n",
      "\n"
     ]
    }
   ],
   "source": [
    "import cProfile\n",
    "profiler = cProfile.Profile()\n",
    "profiler.runcall(fast_sum_list, x_list = x_list, y_list=y_list)\n",
    "profiler.print_stats()"
   ]
  },
  {
   "cell_type": "code",
   "execution_count": 4,
   "id": "630337d1",
   "metadata": {},
   "outputs": [
    {
     "name": "stdout",
     "output_type": "stream",
     "text": [
      "         302 function calls in 10.366 seconds\n",
      "\n",
      "   Ordered by: standard name\n",
      "\n",
      "   ncalls  tottime  percall  cumtime  percall filename:lineno(function)\n",
      "        1    0.005    0.005   10.366   10.366 3927324219.py:19(slow_sum_list)\n",
      "      100    0.002    0.000   10.360    0.104 3927324219.py:8(slow_sum)\n",
      "      100   10.358    0.104   10.358    0.104 {built-in method time.sleep}\n",
      "      100    0.001    0.000    0.001    0.000 {method 'append' of 'list' objects}\n",
      "        1    0.000    0.000    0.000    0.000 {method 'disable' of '_lsprof.Profiler' objects}\n",
      "\n",
      "\n"
     ]
    }
   ],
   "source": [
    "import cProfile\n",
    "profiler = cProfile.Profile()\n",
    "profiler.runcall(slow_sum_list, x_list = x_list, y_list=y_list)\n",
    "profiler.print_stats()"
   ]
  },
  {
   "cell_type": "code",
   "execution_count": null,
   "id": "672fd5d4",
   "metadata": {},
   "outputs": [],
   "source": []
  }
 ],
 "metadata": {
  "kernelspec": {
   "display_name": "Python 3 (ipykernel)",
   "language": "python",
   "name": "python3"
  },
  "language_info": {
   "codemirror_mode": {
    "name": "ipython",
    "version": 3
   },
   "file_extension": ".py",
   "mimetype": "text/x-python",
   "name": "python",
   "nbconvert_exporter": "python",
   "pygments_lexer": "ipython3",
   "version": "3.11.5"
  }
 },
 "nbformat": 4,
 "nbformat_minor": 5
}
